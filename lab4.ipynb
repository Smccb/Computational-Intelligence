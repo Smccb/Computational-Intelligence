{
 "cells": [
  {
   "cell_type": "code",
   "execution_count": 1,
   "metadata": {},
   "outputs": [],
   "source": [
    "import numpy as np\n",
    "import matplotlib.pyplot as plt\n"
   ]
  },
  {
   "cell_type": "code",
   "execution_count": 2,
   "metadata": {},
   "outputs": [],
   "source": [
    "LEARNING_RATE = 0.45\n",
    "EPOCHS = 100"
   ]
  },
  {
   "cell_type": "code",
   "execution_count": 3,
   "metadata": {},
   "outputs": [],
   "source": [
    "# Step function\n",
    "def step(x):\n",
    "    if (x > 0):\n",
    "        return 1\n",
    "    else:\n",
    "        return -1;\n"
   ]
  },
  {
   "cell_type": "code",
   "execution_count": 4,
   "metadata": {},
   "outputs": [
    {
     "data": {
      "text/plain": [
       "[[-1, -1], [-1, 1], [1, -1], [1, 1]]"
      ]
     },
     "execution_count": 4,
     "metadata": {},
     "output_type": "execute_result"
    }
   ],
   "source": [
    "[[-1,-1],\n",
    "[-1,1],\n",
    "[1,-1],\n",
    "[1,1] ]"
   ]
  },
  {
   "cell_type": "code",
   "execution_count": 5,
   "metadata": {},
   "outputs": [
    {
     "data": {
      "text/plain": [
       "[[-1, -1, 1], [-1, 1, 1], [1, -1, 1], [1, 1, 1]]"
      ]
     },
     "execution_count": 5,
     "metadata": {},
     "output_type": "execute_result"
    }
   ],
   "source": [
    "[[-1,-1,1],\n",
    "[-1,1,1],\n",
    "[1,-1,1],\n",
    "[1,1,1] ]\n"
   ]
  },
  {
   "cell_type": "code",
   "execution_count": 6,
   "metadata": {},
   "outputs": [],
   "source": [
    "INPUTS = np.array([[-1,-1,1],\n",
    " [-1,1,1],\n",
    " [1,-1,1],\n",
    " [1,1,1] ])\n"
   ]
  },
  {
   "cell_type": "code",
   "execution_count": 9,
   "metadata": {},
   "outputs": [],
   "source": [
    "OUTPUTS = np.array([[-1,1,1,1]]).T"
   ]
  },
  {
   "cell_type": "code",
   "execution_count": 11,
   "metadata": {},
   "outputs": [
    {
     "name": "stdout",
     "output_type": "stream",
     "text": [
      "[[-1 -1  1]\n",
      " [-1  1  1]\n",
      " [ 1 -1  1]\n",
      " [ 1  1  1]]\n",
      "[[-1]\n",
      " [ 1]\n",
      " [ 1]\n",
      " [ 1]]\n"
     ]
    }
   ],
   "source": [
    "print(INPUTS)\n",
    "print(OUTPUTS)"
   ]
  },
  {
   "cell_type": "code",
   "execution_count": 12,
   "metadata": {},
   "outputs": [
    {
     "name": "stdout",
     "output_type": "stream",
     "text": [
      "Random Weights before training\n",
      " [[-0.16595599]\n",
      " [ 0.44064899]\n",
      " [-0.99977125]]\n"
     ]
    }
   ],
   "source": [
    "# Seed random numbers to make calculation\n",
    "# deterministic (just a good practice for testing)\n",
    "# We can remove this seeding when training for real\n",
    "np.random.seed(1)\n",
    "# Initialize weights randomly with mean 0\n",
    "WEIGHTS = 2 * np.random.random((3,1)) - 1\n",
    "print(\"Random Weights before training\\n\", WEIGHTS)"
   ]
  },
  {
   "cell_type": "code",
   "execution_count": 13,
   "metadata": {},
   "outputs": [],
   "source": [
    "# Use this list to store the errors\n",
    "errors=[]\n"
   ]
  },
  {
   "cell_type": "code",
   "execution_count": 14,
   "metadata": {},
   "outputs": [
    {
     "ename": "NameError",
     "evalue": "name 'input_item' is not defined",
     "output_type": "error",
     "traceback": [
      "\u001b[1;31m---------------------------------------------------------------------------\u001b[0m",
      "\u001b[1;31mNameError\u001b[0m                                 Traceback (most recent call last)",
      "Cell \u001b[1;32mIn[14], line 1\u001b[0m\n\u001b[1;32m----> 1\u001b[0m ADALINE_OUTPUT \u001b[38;5;241m=\u001b[39m (\u001b[43minput_item\u001b[49m[\u001b[38;5;241m0\u001b[39m] \u001b[38;5;241m*\u001b[39m WEIGHTS[\u001b[38;5;241m0\u001b[39m]) \u001b[38;5;241m+\u001b[39m (input_item[\u001b[38;5;241m1\u001b[39m] \u001b[38;5;241m*\u001b[39m WEIGHTS[\u001b[38;5;241m1\u001b[39m])\n\u001b[0;32m      2\u001b[0m \u001b[38;5;241m+\u001b[39m (input_item[\u001b[38;5;241m2\u001b[39m] \u001b[38;5;241m*\u001b[39m WEIGHTS[\u001b[38;5;241m2\u001b[39m])\n",
      "\u001b[1;31mNameError\u001b[0m: name 'input_item' is not defined"
     ]
    }
   ],
   "source": [
    "ADALINE_OUTPUT = (input_item[0] * WEIGHTS[0]) + (input_item[1] * WEIGHTS[1])\n",
    "+ (input_item[2] * WEIGHTS[2])\n"
   ]
  },
  {
   "cell_type": "code",
   "execution_count": 15,
   "metadata": {},
   "outputs": [
    {
     "ename": "NameError",
     "evalue": "name 'ADALINE_OUTPUT' is not defined",
     "output_type": "error",
     "traceback": [
      "\u001b[1;31m---------------------------------------------------------------------------\u001b[0m",
      "\u001b[1;31mNameError\u001b[0m                                 Traceback (most recent call last)",
      "Cell \u001b[1;32mIn[15], line 2\u001b[0m\n\u001b[0;32m      1\u001b[0m \u001b[38;5;66;03m# Run ADALINE_OUTPUT through the step function\u001b[39;00m\n\u001b[1;32m----> 2\u001b[0m ADALINE_OUTPUT \u001b[38;5;241m=\u001b[39m step(\u001b[43mADALINE_OUTPUT\u001b[49m)\n",
      "\u001b[1;31mNameError\u001b[0m: name 'ADALINE_OUTPUT' is not defined"
     ]
    }
   ],
   "source": [
    "ADALINE_OUTPUT = np.dot(input_item, WEIGHTS)\n"
   ]
  },
  {
   "cell_type": "code",
   "execution_count": null,
   "metadata": {},
   "outputs": [],
   "source": [
    "# Run ADALINE_OUTPUT through the step function\n",
    "ADALINE_OUTPUT = step(ADALINE_OUTPUT)\n"
   ]
  },
  {
   "cell_type": "code",
   "execution_count": null,
   "metadata": {},
   "outputs": [],
   "source": [
    "# Calculate the ERROR generated\n",
    "ERROR = desired - ADALINE_OUTPUT\n"
   ]
  },
  {
   "cell_type": "code",
   "execution_count": null,
   "metadata": {},
   "outputs": [],
   "source": [
    "New_Weight = Weight + Learning_Rate * Error * Input_Value\n"
   ]
  },
  {
   "cell_type": "code",
   "execution_count": null,
   "metadata": {},
   "outputs": [],
   "source": [
    "# For each weight - apply the Delta Rule\n",
    "for i in range(len(WEIGHTS)):\n",
    "    WEIGHTS[i] = WEIGHTS[i] + LEARNING_RATE * ERROR * input_item[i]\n"
   ]
  },
  {
   "cell_type": "code",
   "execution_count": 16,
   "metadata": {},
   "outputs": [],
   "source": [
    "# Training loop - EPOCHS = number of iterations\n",
    "for iter in range(EPOCHS):\n",
    "    # Loop through each training pattern\n",
    "    for input_item,desired in zip(INPUTS, OUTPUTS):\n",
    "        # Feed this input forward and calculate the ADALINE output\n",
    "        ADALINE_OUTPUT = np.dot(input_item, WEIGHTS)\n",
    "        # Run ADALINE_OUTPUT through the step function\n",
    "        ADALINE_OUTPUT = step(ADALINE_OUTPUT)\n",
    "        # Calculate the ERROR generated\n",
    "        ERROR = desired - ADALINE_OUTPUT\n",
    "        # Store the ERROR\n",
    "        errors.append(ERROR)\n",
    "        # For each weight - apply the Delta Rule\n",
    "        for i in range(len(WEIGHTS)):\n",
    "            WEIGHTS[i] = WEIGHTS[i] + LEARNING_RATE * ERROR * input_item[i]\n"
   ]
  },
  {
   "cell_type": "code",
   "execution_count": 17,
   "metadata": {},
   "outputs": [
    {
     "name": "stdout",
     "output_type": "stream",
     "text": [
      "New Weights after training\n",
      " [[0.73404401]\n",
      " [1.34064899]\n",
      " [1.70022875]]\n"
     ]
    }
   ],
   "source": [
    "# Training is complete so print the new weights\n",
    "print(\"New Weights after training\\n\",WEIGHTS)\n"
   ]
  },
  {
   "cell_type": "code",
   "execution_count": 18,
   "metadata": {},
   "outputs": [
    {
     "name": "stdout",
     "output_type": "stream",
     "text": [
      "Actual  -1 Desired  [-1]\n",
      "Actual  1 Desired  [1]\n",
      "Actual  1 Desired  [1]\n",
      "Actual  1 Desired  [1]\n"
     ]
    }
   ],
   "source": [
    "# Run the network with the inputs\n",
    "for input_item,desired in zip(INPUTS, OUTPUTS):\n",
    "    # Feed this input forward and calculate the ADALINE output\n",
    "    ADALINE_OUTPUT = np.dot(input_item, WEIGHTS)\n",
    "    # Run ADALINE_OUTPUT through the step function\n",
    "    ADALINE_OUTPUT = step(ADALINE_OUTPUT)\n",
    "    print(\"Actual \",ADALINE_OUTPUT,\"Desired \",desired)"
   ]
  },
  {
   "cell_type": "code",
   "execution_count": 19,
   "metadata": {},
   "outputs": [
    {
     "data": {
      "image/png": "[encoded data removed]",
      "text/plain": [
       "<Figure size 640x480 with 1 Axes>"
      ]
     },
     "metadata": {},
     "output_type": "display_data"
    }
   ],
   "source": [
    "# Plot the errors to see how we did during training\n",
    "ax = plt.subplot(111)\n",
    "ax.plot(errors, label='Training Errors')\n",
    "ax.set_xscale(\"log\")\n",
    "plt.title(\"ADALINE Errors (2,-2)\")\n",
    "plt.legend()\n",
    "plt.xlabel('Error')\n",
    "plt.ylabel('Value')\n",
    "plt.show()"
   ]
  }
 ],
 "metadata": {
  "kernelspec": {
   "display_name": "Python 3",
   "language": "python",
   "name": "python3"
  },
  "language_info": {
   "codemirror_mode": {
    "name": "ipython",
    "version": 3
   },
   "file_extension": ".py",
   "mimetype": "text/x-python",
   "name": "python",
   "nbconvert_exporter": "python",
   "pygments_lexer": "ipython3",
   "version": "3.11.0"
  }
 },
 "nbformat": 4,
 "nbformat_minor": 2
}
